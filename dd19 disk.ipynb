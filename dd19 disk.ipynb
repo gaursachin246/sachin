{
 "cells": [
  {
   "cell_type": "code",
   "execution_count": 6,
   "id": "2b74c405-cc34-4880-9350-803da3b1a1b8",
   "metadata": {},
   "outputs": [],
   "source": [
    "d5 = {\"sane\"  : 'rohan' , 'mix' :[121 , 'dask' , 'rose']}"
   ]
  },
  {
   "cell_type": "code",
   "execution_count": 7,
   "id": "29ea2a81-af6f-4a64-8d3f-735ea65c8f3f",
   "metadata": {},
   "outputs": [
    {
     "data": {
      "text/plain": [
       "{'sane': 'rohan', 'mix': [121, 'dask', 'rose']}"
      ]
     },
     "execution_count": 7,
     "metadata": {},
     "output_type": "execute_result"
    }
   ],
   "source": [
    "d5"
   ]
  },
  {
   "cell_type": "code",
   "execution_count": 9,
   "id": "6017ae8d-eb92-4d44-b97c-224e89a7b819",
   "metadata": {},
   "outputs": [
    {
     "data": {
      "text/plain": [
       "[121, 'dask', 'rose']"
      ]
     },
     "execution_count": 9,
     "metadata": {},
     "output_type": "execute_result"
    }
   ],
   "source": [
    "d5['mix']"
   ]
  },
  {
   "cell_type": "code",
   "execution_count": 22,
   "id": "8897f520-6ea2-47ce-8151-598fb6aa2771",
   "metadata": {},
   "outputs": [],
   "source": [
    "d6 = {\"get uo time\" : [1,2,5,8]  , \"launch kime\" : [25,5,68,574,685,41] , 'sunday' : [\"day,nihgt,morning,afrtnoon\"] , \"Ttpe of keys\" : [\"a89,s44,sd85\"] , \"tiger\" : (\"any,say forst\")}"
   ]
  },
  {
   "cell_type": "code",
   "execution_count": 23,
   "id": "a85107b6-919f-4ddf-82c2-32b6b63f57c4",
   "metadata": {},
   "outputs": [
    {
     "data": {
      "text/plain": [
       "{'get uo time': [1, 2, 5, 8],\n",
       " 'launch kime': [25, 5, 68, 574, 685, 41],\n",
       " 'sunday': ['day,nihgt,morning,afrtnoon'],\n",
       " 'Ttpe of keys': ['a89,s44,sd85'],\n",
       " 'tiger': 'any,say forst'}"
      ]
     },
     "execution_count": 23,
     "metadata": {},
     "output_type": "execute_result"
    }
   ],
   "source": [
    "d6"
   ]
  },
  {
   "cell_type": "code",
   "execution_count": 29,
   "id": "7c525e0b-b865-4825-b63c-214183cca61c",
   "metadata": {},
   "outputs": [
    {
     "ename": "KeyError",
     "evalue": "'class_time'",
     "output_type": "error",
     "traceback": [
      "\u001b[0;31m---------------------------------------------------------------------------\u001b[0m",
      "\u001b[0;31mKeyError\u001b[0m                                  Traceback (most recent call last)",
      "Cell \u001b[0;32mIn[29], line 1\u001b[0m\n\u001b[0;32m----> 1\u001b[0m \u001b[43md6\u001b[49m\u001b[43m[\u001b[49m\u001b[38;5;124;43m'\u001b[39;49m\u001b[38;5;124;43mclass_time\u001b[39;49m\u001b[38;5;124;43m'\u001b[39;49m\u001b[43m]\u001b[49m\n",
      "\u001b[0;31mKeyError\u001b[0m: 'class_time'"
     ]
    }
   ],
   "source": [
    "d6['class_time']"
   ]
  },
  {
   "cell_type": "code",
   "execution_count": 30,
   "id": "1b2e3bd4-7c5e-4f06-afcd-c1b6a8c2b0f6",
   "metadata": {},
   "outputs": [
    {
     "data": {
      "text/plain": [
       "{'get uo time': [1, 2, 5, 8],\n",
       " 'launch kime': [25, 5, 68, 574, 685, 41],\n",
       " 'sunday': ['day,nihgt,morning,afrtnoon'],\n",
       " 'Ttpe of keys': ['a89,s44,sd85'],\n",
       " 'tiger': 'any,say forst'}"
      ]
     },
     "execution_count": 30,
     "metadata": {},
     "output_type": "execute_result"
    }
   ],
   "source": [
    "d6"
   ]
  },
  {
   "cell_type": "code",
   "execution_count": 31,
   "id": "4d75bed1-6ccc-43f6-afb7-854108074d60",
   "metadata": {},
   "outputs": [],
   "source": [
    "d6['menter'] = [\"dudhansu\",'durgesh','lokesh']"
   ]
  },
  {
   "cell_type": "code",
   "execution_count": 32,
   "id": "932321b5-6ab5-44d5-ac32-c786461cd4b9",
   "metadata": {},
   "outputs": [
    {
     "data": {
      "text/plain": [
       "{'get uo time': [1, 2, 5, 8],\n",
       " 'launch kime': [25, 5, 68, 574, 685, 41],\n",
       " 'sunday': ['day,nihgt,morning,afrtnoon'],\n",
       " 'Ttpe of keys': ['a89,s44,sd85'],\n",
       " 'tiger': 'any,say forst',\n",
       " 'menter': ['dudhansu', 'durgesh', 'lokesh']}"
      ]
     },
     "execution_count": 32,
     "metadata": {},
     "output_type": "execute_result"
    }
   ],
   "source": [
    "d6"
   ]
  },
  {
   "cell_type": "code",
   "execution_count": 35,
   "id": "e5b07fd2-e8b4-4080-ab09-73164997dfb1",
   "metadata": {},
   "outputs": [],
   "source": [
    "del d6['tiger']"
   ]
  },
  {
   "cell_type": "code",
   "execution_count": 36,
   "id": "b71f00e3-79d3-4914-b1c6-9926c5485bb5",
   "metadata": {},
   "outputs": [
    {
     "data": {
      "text/plain": [
       "{'get uo time': [1, 2, 5, 8],\n",
       " 'launch kime': [25, 5, 68, 574, 685, 41],\n",
       " 'sunday': ['day,nihgt,morning,afrtnoon'],\n",
       " 'Ttpe of keys': ['a89,s44,sd85'],\n",
       " 'menter': ['dudhansu', 'durgesh', 'lokesh']}"
      ]
     },
     "execution_count": 36,
     "metadata": {},
     "output_type": "execute_result"
    }
   ],
   "source": [
    "d6"
   ]
  },
  {
   "cell_type": "code",
   "execution_count": 38,
   "id": "ee5f72a3-2a36-4b04-8082-fae41a304c0c",
   "metadata": {},
   "outputs": [
    {
     "data": {
      "text/plain": [
       "dict_keys(['get uo time', 'launch kime', 'sunday', 'Ttpe of keys', 'menter'])"
      ]
     },
     "execution_count": 38,
     "metadata": {},
     "output_type": "execute_result"
    }
   ],
   "source": [
    "d6.keys()"
   ]
  },
  {
   "cell_type": "code",
   "execution_count": 39,
   "id": "86707b43-185e-465a-b512-b58c5d282131",
   "metadata": {},
   "outputs": [
    {
     "data": {
      "text/plain": [
       "[[1, 2, 5, 8],\n",
       " [25, 5, 68, 574, 685, 41],\n",
       " ['day,nihgt,morning,afrtnoon'],\n",
       " ['a89,s44,sd85'],\n",
       " ['dudhansu', 'durgesh', 'lokesh']]"
      ]
     },
     "execution_count": 39,
     "metadata": {},
     "output_type": "execute_result"
    }
   ],
   "source": [
    "list(d6.values())"
   ]
  },
  {
   "cell_type": "code",
   "execution_count": 40,
   "id": "1fcc27be-e3ea-4c79-b106-4b2d31dd09b2",
   "metadata": {},
   "outputs": [
    {
     "data": {
      "text/plain": [
       "[('get uo time', [1, 2, 5, 8]),\n",
       " ('launch kime', [25, 5, 68, 574, 685, 41]),\n",
       " ('sunday', ['day,nihgt,morning,afrtnoon']),\n",
       " ('Ttpe of keys', ['a89,s44,sd85']),\n",
       " ('menter', ['dudhansu', 'durgesh', 'lokesh'])]"
      ]
     },
     "execution_count": 40,
     "metadata": {},
     "output_type": "execute_result"
    }
   ],
   "source": [
    "list(d6.items())"
   ]
  },
  {
   "cell_type": "code",
   "execution_count": 44,
   "id": "5993402b-2b54-487a-a99a-59e6e5a95a69",
   "metadata": {},
   "outputs": [
    {
     "data": {
      "text/plain": [
       "['day,nihgt,morning,afrtnoon']"
      ]
     },
     "execution_count": 44,
     "metadata": {},
     "output_type": "execute_result"
    }
   ],
   "source": [
    "d6.pop('sunday')"
   ]
  },
  {
   "cell_type": "code",
   "execution_count": 45,
   "id": "d9992011-5855-45e6-b927-b56c431f23f7",
   "metadata": {},
   "outputs": [
    {
     "data": {
      "text/plain": [
       "{'get uo time': [1, 2, 5, 8],\n",
       " 'launch kime': [25, 5, 68, 574, 685, 41],\n",
       " 'Ttpe of keys': ['a89,s44,sd85'],\n",
       " 'menter': ['dudhansu', 'durgesh', 'lokesh']}"
      ]
     },
     "execution_count": 45,
     "metadata": {},
     "output_type": "execute_result"
    }
   ],
   "source": [
    "d6"
   ]
  },
  {
   "cell_type": "code",
   "execution_count": 55,
   "id": "fd5efcc4-a259-4979-a596-cb6834caa772",
   "metadata": {},
   "outputs": [
    {
     "name": "stdin",
     "output_type": "stream",
     "text": [
      "enter your maeks 20\n"
     ]
    },
    {
     "ename": "TypeError",
     "evalue": "'>=' not supported between instances of 'str' and 'int'",
     "output_type": "error",
     "traceback": [
      "\u001b[0;31m---------------------------------------------------------------------------\u001b[0m",
      "\u001b[0;31mTypeError\u001b[0m                                 Traceback (most recent call last)",
      "Cell \u001b[0;32mIn[55], line 2\u001b[0m\n\u001b[1;32m      1\u001b[0m marks \u001b[38;5;241m=\u001b[39m \u001b[38;5;28minput\u001b[39m(\u001b[38;5;124m\"\u001b[39m\u001b[38;5;124menter your maeks\u001b[39m\u001b[38;5;124m\"\u001b[39m)\n\u001b[0;32m----> 2\u001b[0m \u001b[38;5;28;01mif\u001b[39;00m \u001b[43mmarks\u001b[49m\u001b[43m \u001b[49m\u001b[38;5;241;43m>\u001b[39;49m\u001b[38;5;241;43m=\u001b[39;49m\u001b[43m \u001b[49m\u001b[38;5;241;43m80\u001b[39;49m:\n\u001b[1;32m      3\u001b[0m     \u001b[38;5;28mprint\u001b[39m(\u001b[38;5;124m\"\u001b[39m\u001b[38;5;124myou willbe A part of a0 batch\u001b[39m\u001b[38;5;124m\"\u001b[39m)\n\u001b[1;32m      4\u001b[0m \u001b[38;5;28;01melif\u001b[39;00m marks \u001b[38;5;241m>\u001b[39m\u001b[38;5;241m=\u001b[39m \u001b[38;5;241m60\u001b[39m \u001b[38;5;129;01mand\u001b[39;00m marks\u001b[38;5;241m<\u001b[39m \u001b[38;5;241m80\u001b[39m:\n",
      "\u001b[0;31mTypeError\u001b[0m: '>=' not supported between instances of 'str' and 'int'"
     ]
    }
   ],
   "source": [
    "marks = input(\"enter your maeks\")\n",
    "if marks >= 80:\n",
    "    print(\"you willbe A part of a0 batch\")\n",
    "elif marks >= 60 and marks< 80:\n",
    "        print(\"you will be A1 part of batch\")\n",
    "elif marks >= 40 and marks < 60 :\n",
    "    print(\"you will be a part of A2 batch\")\n",
    "else : \n",
    "    print(\"you will be a part of A3 batch\")"
   ]
  },
  {
   "cell_type": "code",
   "execution_count": 52,
   "id": "19d9fb97-bc63-422d-9b51-2963f4cba263",
   "metadata": {},
   "outputs": [
    {
     "data": {
      "text/plain": [
       "False"
      ]
     },
     "execution_count": 52,
     "metadata": {},
     "output_type": "execute_result"
    }
   ],
   "source": [
    "10>= 80"
   ]
  },
  {
   "cell_type": "code",
   "execution_count": null,
   "id": "906a487c-377d-4d34-80cb-b95738e001a6",
   "metadata": {},
   "outputs": [],
   "source": [
    "marks = int(input(\"enter your maeks\"))"
   ]
  },
  {
   "cell_type": "code",
   "execution_count": 56,
   "id": "589fc2ff-a567-47b3-839b-1930ec428ba7",
   "metadata": {},
   "outputs": [
    {
     "data": {
      "text/plain": [
       "str"
      ]
     },
     "execution_count": 56,
     "metadata": {},
     "output_type": "execute_result"
    }
   ],
   "source": [
    "type(marks)"
   ]
  },
  {
   "cell_type": "code",
   "execution_count": 57,
   "id": "fb6e2d77-a506-48b7-980b-eb5dc71dac53",
   "metadata": {},
   "outputs": [
    {
     "name": "stdin",
     "output_type": "stream",
     "text": [
      "enter price 500\n"
     ]
    },
    {
     "name": "stdout",
     "output_type": "stream",
     "text": [
      "i will purchase\n"
     ]
    }
   ],
   "source": [
    "price = int(input(\"enter price\"))\n",
    "if price > 1000:\n",
    "    print(\"i will not purchase\")\n",
    "else : \n",
    "    print(\"i will purchase\")"
   ]
  },
  {
   "cell_type": "code",
   "execution_count": 63,
   "id": "941d4e40-b44f-4632-9dcb-85a397d1e817",
   "metadata": {},
   "outputs": [
    {
     "name": "stdin",
     "output_type": "stream",
     "text": [
      "enter price 15000\n"
     ]
    },
    {
     "name": "stdout",
     "output_type": "stream",
     "text": [
      "i will not porchase\n",
      "this is too much\n"
     ]
    }
   ],
   "source": [
    "price = int(input(\"enter price\"))\n",
    "if price > 1000:\n",
    "    print(\"i will not porchase\")\n",
    "    if price >5000:\n",
    "        print(\"this is too much\")\n",
    "    elif price < 2000 :\n",
    "        print(\"its ok\")\n",
    "    elif price < 2000 :\n",
    "        print(\"its ok\") elif price <50000 :\n",
    "        print(\"its ok\")\n",
    "        \n",
    "     elif price < 2000 :\n",
    "        print(\"its ok\")"
   ]
  },
  {
   "cell_type": "code",
   "execution_count": 64,
   "id": "2d1aa2e2-0e90-4245-aa95-51248b9e5080",
   "metadata": {},
   "outputs": [],
   "source": [
    "l = [1,2,3,4,5,6,7,8,9]"
   ]
  },
  {
   "cell_type": "code",
   "execution_count": 74,
   "id": "b3c1a918-d439-451f-be28-be0f327ce3bb",
   "metadata": {},
   "outputs": [
    {
     "data": {
      "text/plain": [
       "2"
      ]
     },
     "execution_count": 74,
     "metadata": {},
     "output_type": "execute_result"
    }
   ],
   "source": [
    "l[0] +1"
   ]
  },
  {
   "cell_type": "code",
   "execution_count": 71,
   "id": "4ee3967c-c5e5-4a32-9f4c-96ded7eae66f",
   "metadata": {},
   "outputs": [],
   "source": [
    "l1 = []"
   ]
  },
  {
   "cell_type": "code",
   "execution_count": 72,
   "id": "11e47a3a-acd2-4f73-9354-9c9be206208f",
   "metadata": {},
   "outputs": [],
   "source": [
    "l1.append(l[0] +1)"
   ]
  },
  {
   "cell_type": "code",
   "execution_count": 75,
   "id": "cef79bf2-8153-4f0a-869d-364d1b9a3c22",
   "metadata": {},
   "outputs": [
    {
     "data": {
      "text/plain": [
       "[2]"
      ]
     },
     "execution_count": 75,
     "metadata": {},
     "output_type": "execute_result"
    }
   ],
   "source": [
    "l1"
   ]
  },
  {
   "cell_type": "code",
   "execution_count": 76,
   "id": "e64a82d9-1baf-4c6e-a4e2-2852e5ef8746",
   "metadata": {},
   "outputs": [],
   "source": [
    "l = [1,2,3,4,5,6,7,8,9]"
   ]
  },
  {
   "cell_type": "code",
   "execution_count": 4,
   "id": "db6e59fe-f9bf-4c86-a6d1-16547a9b5afe",
   "metadata": {},
   "outputs": [
    {
     "ename": "NameError",
     "evalue": "name 'l' is not defined",
     "output_type": "error",
     "traceback": [
      "\u001b[0;31m---------------------------------------------------------------------------\u001b[0m",
      "\u001b[0;31mNameError\u001b[0m                                 Traceback (most recent call last)",
      "Cell \u001b[0;32mIn[4], line 1\u001b[0m\n\u001b[0;32m----> 1\u001b[0m \u001b[38;5;28;01mfor\u001b[39;00m i \u001b[38;5;129;01min\u001b[39;00m \u001b[43ml\u001b[49m :\n\u001b[1;32m      2\u001b[0m     \u001b[38;5;28mprint\u001b[39m(l)\n",
      "\u001b[0;31mNameError\u001b[0m: name 'l' is not defined"
     ]
    }
   ],
   "source": [
    "for i in l :\n",
    "    print(l)"
   ]
  },
  {
   "cell_type": "code",
   "execution_count": null,
   "id": "6d65fb6c-c424-432d-90cb-a2808fafc785",
   "metadata": {},
   "outputs": [],
   "source": [
    "l = [1,2,3,4,5,6,7,8,9]"
   ]
  },
  {
   "cell_type": "code",
   "execution_count": 5,
   "id": "2b4fc46f-2416-4ed5-ae6f-ef486298f64e",
   "metadata": {},
   "outputs": [
    {
     "ename": "NameError",
     "evalue": "name 'l' is not defined",
     "output_type": "error",
     "traceback": [
      "\u001b[0;31m---------------------------------------------------------------------------\u001b[0m",
      "\u001b[0;31mNameError\u001b[0m                                 Traceback (most recent call last)",
      "Cell \u001b[0;32mIn[5], line 1\u001b[0m\n\u001b[0;32m----> 1\u001b[0m \u001b[38;5;28;01mfor\u001b[39;00m i \u001b[38;5;129;01min\u001b[39;00m \u001b[43ml\u001b[49m :\n\u001b[1;32m      2\u001b[0m     \u001b[38;5;28mprint\u001b[39m(l)\n",
      "\u001b[0;31mNameError\u001b[0m: name 'l' is not defined"
     ]
    }
   ],
   "source": [
    "for i in l :\n",
    "    print(l)"
   ]
  },
  {
   "cell_type": "code",
   "execution_count": 6,
   "id": "1d237a31-f2c8-4b59-8f5b-7027da15c21e",
   "metadata": {},
   "outputs": [],
   "source": [
    "l1 = [1,2,3,4,5,6,7,8]"
   ]
  },
  {
   "cell_type": "code",
   "execution_count": 15,
   "id": "fdb06536-1c95-4e6a-bd9c-386305f97a66",
   "metadata": {},
   "outputs": [
    {
     "ename": "SyntaxError",
     "evalue": "invalid syntax (1430851283.py, line 2)",
     "output_type": "error",
     "traceback": [
      "\u001b[0;36m  Cell \u001b[0;32mIn[15], line 2\u001b[0;36m\u001b[0m\n\u001b[0;31m    for i in :\u001b[0m\n\u001b[0m             ^\u001b[0m\n\u001b[0;31mSyntaxError\u001b[0m\u001b[0;31m:\u001b[0m invalid syntax\n"
     ]
    }
   ],
   "source": [
    "l1 = [i]\n",
    "for i in :\n",
    "    print(l1)"
   ]
  },
  {
   "cell_type": "code",
   "execution_count": null,
   "id": "6f968a99-8c5f-4478-9129-fcbb96f85fd3",
   "metadata": {},
   "outputs": [],
   "source": []
  }
 ],
 "metadata": {
  "kernelspec": {
   "display_name": "Python 3 (ipykernel)",
   "language": "python",
   "name": "python3"
  },
  "language_info": {
   "codemirror_mode": {
    "name": "ipython",
    "version": 3
   },
   "file_extension": ".py",
   "mimetype": "text/x-python",
   "name": "python",
   "nbconvert_exporter": "python",
   "pygments_lexer": "ipython3",
   "version": "3.10.8"
  }
 },
 "nbformat": 4,
 "nbformat_minor": 5
}
